{
 "cells": [
  {
   "cell_type": "markdown",
   "id": "17ed3621",
   "metadata": {},
   "source": [
    "# Loading / Embedding Documents"
   ]
  },
  {
   "cell_type": "markdown",
   "id": "2c1ca943",
   "metadata": {},
   "source": [
    "Goal: Turn the raw text files listed in `data/raw/docs_list.txt` into dense vector embeddings can be searched later. Standardized the paths via `src/paths.py` so the notebook runs the same on any machine and in CI."
   ]
  },
  {
   "cell_type": "markdown",
   "id": "8dac1541",
   "metadata": {},
   "source": [
    "### Step 1 — Wire up the environment and project paths\n",
    "\n",
    "We make the sibling `src/` package importable, then pull in the canonical\n",
    "locations for our corpus (`RAW`), the manifest (`DOCS_LIST`), and where to\n",
    "persist embeddings (`EMBED`). This is to ensure\n",
    "portable setup so **paths are not hard-coded**."
   ]
  },
  {
   "cell_type": "code",
   "execution_count": 5,
   "id": "148a49b0",
   "metadata": {},
   "outputs": [
    {
     "name": "stderr",
     "output_type": "stream",
     "text": [
      "huggingface/tokenizers: The current process just got forked, after parallelism has already been used. Disabling parallelism to avoid deadlocks...\n",
      "To disable this warning, you can either:\n",
      "\t- Avoid using `tokenizers` before the fork if possible\n",
      "\t- Explicitly set the environment variable TOKENIZERS_PARALLELISM=(true | false)\n"
     ]
    },
    {
     "name": "stdout",
     "output_type": "stream",
     "text": [
      "Note: you may need to restart the kernel to use updated packages.\n"
     ]
    }
   ],
   "source": [
    "%pip install -q sentence-transformers\n",
    "import sys\n",
    "from pathlib import Path\n",
    "sys.path.append(str(Path.cwd().parent))\n",
    "from src.paths import RAW, DOCS_LIST, EMBED\n",
    "from sentence_transformers import SentenceTransformer\n",
    "import numpy as np"
   ]
  },
  {
   "cell_type": "markdown",
   "id": "c5978d54",
   "metadata": {},
   "source": [
    "### Step 2 — Load the corpus and create normalized embeddings\n",
    "\n",
    "This is to read **filenames** from `docs_list.txt` (one per line), open each file from\n",
    "`RAW`, and encode the texts with `all-MiniLM-L6-v2`. Vectors were normalized,\n",
    "so a dot product in FAISS behaves like cosine similarity; that’s important for\n",
    "accurate retrieval later. Finally, the matrix was persisted to `EMBED` so the next\n",
    "notebooks can build an index without re-encoding."
   ]
  },
  {
   "cell_type": "code",
   "execution_count": 6,
   "id": "b30ca8aa",
   "metadata": {},
   "outputs": [
    {
     "name": "stdout",
     "output_type": "stream",
     "text": [
      "Saved "data/processed/embed.npy" (1, 384)\n"
     ]
    }
   ],
   "source": [
    "names = [ln.strip() for ln in Path(DOCS_LIST).read_text(encoding=\"utf-8\").splitlines() if ln.strip()]\n",
    "docs_text = [(RAW / n).read_text(encoding=\"utf-8\") for n in names]\n",
    "\n",
    "enc = SentenceTransformer(\"all-MiniLM-L6-v2\")\n",
    "embeds = enc.encode(docs_text, normalize_embeddings=True).astype(\"float32\")\n",
    "np.save(EMBED, embeds)\n",
    "print(\"Saved\", EMBED, embeds.shape)"
   ]
  }
 ],
 "metadata": {
  "kernelspec": {
   "display_name": ".venv",
   "language": "python",
   "name": "python3"
  },
  "language_info": {
   "codemirror_mode": {
    "name": "ipython",
    "version": 3
   },
   "file_extension": ".py",
   "mimetype": "text/x-python",
   "name": "python",
   "nbconvert_exporter": "python",
   "pygments_lexer": "ipython3",
   "version": "3.10.9"
  }
 },
 "nbformat": 4,
 "nbformat_minor": 5
}
