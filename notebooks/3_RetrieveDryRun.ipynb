{
 "cells": [
  {
   "cell_type": "markdown",
   "id": "15e3da13",
   "metadata": {},
   "source": [
    "# Querying & Retrieving"
   ]
  },
  {
   "cell_type": "markdown",
   "id": "c5875736",
   "metadata": {},
   "source": [
    "# 3.1 — Query & Retrieve (no LLM)\n",
    "\n",
    "Goal: Given a query, encode it, search the FAISS index, and inspect the top hits\n",
    "and their context. Useful for verifying that retrieval quality looks right before\n",
    "adding generation."
   ]
  },
  {
   "cell_type": "markdown",
   "id": "3a8d0784",
   "metadata": {},
   "source": [
    "### Step 1 — Load filenames, texts, encoder, and index\n",
    "\n",
    "Reads `docs_list.txt` for filenames, loads texts from `RAW`, prepares the\n",
    "`all-MiniLM-L6-v2` encoder, and opens the persisted FAISS `INDEX`."
   ]
  },
  {
   "cell_type": "code",
   "execution_count": 3,
   "id": "12e97bbc",
   "metadata": {},
   "outputs": [
    {
     "name": "stdout",
     "output_type": "stream",
     "text": [
      "Note: you may need to restart the kernel to use updated packages.\n"
     ]
    }
   ],
   "source": [
    "%pip install -q sentence-transformers faiss-cpu\n",
    "import sys\n",
    "from pathlib import Path\n",
    "sys.path.append(str(Path.cwd().parent))\n",
    "from src.paths import RAW, DOCS_LIST, INDEX\n",
    "import numpy as np\n",
    "import faiss\n",
    "from sentence_transformers import SentenceTransformer"
   ]
  },
  {
   "cell_type": "markdown",
   "id": "a6ecef54",
   "metadata": {},
   "source": [
    "### Step 2 — Encode a query and inspect top-k results\n",
    "\n",
    "Encodes the query with normalized embeddings, searches FAISS, prints the top hit\n",
    "filenames, and previews the retrieved context. Adjust `k` as needed."
   ]
  },
  {
   "cell_type": "code",
   "execution_count": 4,
   "id": "e96485b3",
   "metadata": {},
   "outputs": [],
   "source": [
    "def rag_respond(q: str) -> str:\n",
    "    qv = encoder.encode([q], normalize_embeddings=True).astype(\"float32\")\n",
    "    k  = min(3, index.ntotal)           # don’t ask for more than we have\n",
    "    D, I = index.search(qv, k)\n",
    "\n",
    "    valid = [i for i in I[0] if 0 <= i < len(docs_text)]\n",
    "    if not valid:\n",
    "        return \"No results in index or artifact/corpus mismatch. Rebuild 1.1 then 2.1.\"\n",
    "\n",
    "    context = \"\\n\\n\".join(docs_text[i] for i in valid)\n",
    "    # ... OpenAI call ...\n",
    "    sources = \", \".join(dict.fromkeys(names[i] for i in valid))\n",
    "    return f\"{answer}\\n\\n---\\nSources: {sources}\"\n"
   ]
  }
 ],
 "metadata": {
  "kernelspec": {
   "display_name": ".venv",
   "language": "python",
   "name": "python3"
  },
  "language_info": {
   "codemirror_mode": {
    "name": "ipython",
    "version": 3
   },
   "file_extension": ".py",
   "mimetype": "text/x-python",
   "name": "python",
   "nbconvert_exporter": "python",
   "pygments_lexer": "ipython3",
   "version": "3.10.9"
  }
 },
 "nbformat": 4,
 "nbformat_minor": 5
}
