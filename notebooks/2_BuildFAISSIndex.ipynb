{
 "cells": [
  {
   "cell_type": "markdown",
   "id": "30ede935",
   "metadata": {},
   "source": [
    "# Creating a FAISS Index"
   ]
  },
  {
   "cell_type": "markdown",
   "id": "23a83279",
   "metadata": {},
   "source": [
    "# 2.1 — Create FAISS Index\n",
    "\n",
    "Goal: Turn the saved embedding matrix into a searchable FAISS index optimized\n",
    "for cosine similarity (via normalized vectors + inner product). The index is\n",
    "persisted so downstream notebooks can load it instantly."
   ]
  },
  {
   "cell_type": "markdown",
   "id": "0431a1d4",
   "metadata": {},
   "source": [
    "### Step 1 — Initialize environment and import project paths\n",
    "\n",
    "Standardized imports for paths and FAISS utilities. Loads the embedding matrix\n",
    "location (`EMBED`) and the target path for the index (`INDEX`)."
   ]
  },
  {
   "cell_type": "code",
   "execution_count": 1,
   "id": "72094c05",
   "metadata": {},
   "outputs": [
    {
     "name": "stdout",
     "output_type": "stream",
     "text": [
      "\n",
      "\u001b[1m[\u001b[0m\u001b[34;49mnotice\u001b[0m\u001b[1;39;49m]\u001b[0m\u001b[39;49m A new release of pip is available: \u001b[0m\u001b[31;49m25.1.1\u001b[0m\u001b[39;49m -> \u001b[0m\u001b[32;49m25.2\u001b[0m\n",
      "\u001b[1m[\u001b[0m\u001b[34;49mnotice\u001b[0m\u001b[1;39;49m]\u001b[0m\u001b[39;49m To update, run: \u001b[0m\u001b[32;49mpip install --upgrade pip\u001b[0m\n",
      "Note: you may need to restart the kernel to use updated packages.\n"
     ]
    }
   ],
   "source": [
    "%pip install -q faiss-cpu\n",
    "import sys\n",
    "from pathlib import Path\n",
    "sys.path.append(str(Path.cwd().parent))\n",
    "from src.paths import EMBED, INDEX\n",
    "import numpy as np\n",
    "import faiss"
   ]
  },
  {
   "cell_type": "markdown",
   "id": "6aa5e0bd",
   "metadata": {},
   "source": [
    "### Step 2 — Build a cosine-equivalent FAISS index and persist it\n",
    "\n",
    "Loads embeddings from `EMBED`, constructs `faiss.IndexFlatIP` (inner product\n",
    "behaves like cosine because vectors were normalized during embedding), adds all\n",
    "vectors, and persists the index to `INDEX`."
   ]
  },
  {
   "cell_type": "code",
   "execution_count": 3,
   "id": "1bcc04fd",
   "metadata": {},
   "outputs": [],
   "source": [
    "embeds = np.load(EMBED)\n",
    "index = faiss.IndexFlatIP(embeds.shape[1])   # cosine via normalized + IP\n",
    "index.add(embeds)\n",
    "faiss.write_index(index, str(INDEX))\n",
    "# print(\"Saved\", INDEX, \"ntotal:\", index.ntotal)"
   ]
  }
 ],
 "metadata": {
  "kernelspec": {
   "display_name": ".venvRAG",
   "language": "python",
   "name": "python3"
  },
  "language_info": {
   "codemirror_mode": {
    "name": "ipython",
    "version": 3
   },
   "file_extension": ".py",
   "mimetype": "text/x-python",
   "name": "python",
   "nbconvert_exporter": "python",
   "pygments_lexer": "ipython3",
   "version": "3.10.17"
  }
 },
 "nbformat": 4,
 "nbformat_minor": 5
}
